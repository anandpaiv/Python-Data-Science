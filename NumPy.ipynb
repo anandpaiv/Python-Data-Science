{
 "cells": [
  {
   "cell_type": "markdown",
   "metadata": {},
   "source": [
    "# NumPy"
   ]
  },
  {
   "cell_type": "code",
   "execution_count": 1,
   "metadata": {},
   "outputs": [
    {
     "data": {
      "text/plain": [
       "'1.12.1'"
      ]
     },
     "execution_count": 1,
     "metadata": {},
     "output_type": "execute_result"
    }
   ],
   "source": [
    "import numpy as np\n",
    "np.version.full_version"
   ]
  },
  {
   "cell_type": "code",
   "execution_count": 2,
   "metadata": {},
   "outputs": [],
   "source": [
    "#Creating a macro for the new line charector\n",
    "NL='\\n'"
   ]
  },
  {
   "cell_type": "markdown",
   "metadata": {},
   "source": [
    "### Creating Arrays"
   ]
  },
  {
   "cell_type": "code",
   "execution_count": 3,
   "metadata": {},
   "outputs": [
    {
     "name": "stdout",
     "output_type": "stream",
     "text": [
      "[ 3.14  1.    2.    3.  ]\n",
      "float64\n"
     ]
    }
   ],
   "source": [
    "a = np.array([3.14, 1, 2, 3])\n",
    "print(a)\n",
    "print(a.dtype)"
   ]
  },
  {
   "cell_type": "code",
   "execution_count": 4,
   "metadata": {},
   "outputs": [
    {
     "name": "stdout",
     "output_type": "stream",
     "text": [
      "[1 2 3 4]\n",
      "int16\n"
     ]
    }
   ],
   "source": [
    "b = np.array([1, 2, 3, 4], dtype=np.int16)\n",
    "print(b)\n",
    "print(b.dtype)"
   ]
  },
  {
   "cell_type": "code",
   "execution_count": 5,
   "metadata": {},
   "outputs": [
    {
     "name": "stdout",
     "output_type": "stream",
     "text": [
      "[[ 2  3  4  5  6]\n",
      " [ 4  5  6  7  8]\n",
      " [ 6  7  8  9 10]\n",
      " [ 8  9 10 11 12]]\n"
     ]
    }
   ],
   "source": [
    "# nested list result in multi-dimensional arrays\n",
    "c = np.array([range(i, i+5) for i in [2, 4, 6, 8]])\n",
    "print(c)"
   ]
  },
  {
   "cell_type": "code",
   "execution_count": 6,
   "metadata": {},
   "outputs": [
    {
     "name": "stdout",
     "output_type": "stream",
     "text": [
      "d: [0 0 0 0 0 0 0 0 0 0] \n",
      "\n",
      "e: [[ 1.  1.  1.  1.  1.]\n",
      " [ 1.  1.  1.  1.  1.]] \n",
      "\n",
      "f: [[ 3.14  3.14  3.14]\n",
      " [ 3.14  3.14  3.14]\n",
      " [ 3.14  3.14  3.14]] \n",
      "\n",
      "g: [ 0  2  4  6  8 10 12 14 16 18] \n",
      "\n",
      "h: [ 0.    0.25  0.5   0.75  1.  ]\n"
     ]
    }
   ],
   "source": [
    "d = np.zeros(10, dtype=int)\n",
    "e = np.ones((2,5),dtype=float)\n",
    "f = np.full((3,3), 3.14)\n",
    "g = np.arange(0, 20, 2)\n",
    "h = np.linspace(0, 1, 5)\n",
    "print(\"d:\",d,NL)\n",
    "print(\"e:\",e,NL)\n",
    "print(\"f:\",f,NL)\n",
    "print(\"g:\",g,NL)\n",
    "print(\"h:\",h)"
   ]
  },
  {
   "cell_type": "code",
   "execution_count": 7,
   "metadata": {},
   "outputs": [
    {
     "name": "stdout",
     "output_type": "stream",
     "text": [
      "a: [[ 0.5488135   0.71518937  0.60276338]\n",
      " [ 0.54488318  0.4236548   0.64589411]\n",
      " [ 0.43758721  0.891773    0.96366276]] \n",
      "\n",
      "b: [[ 1.26611853 -0.50587654  2.54520078]\n",
      " [ 1.08081191  0.48431215  0.57914048]\n",
      " [-0.18158257  1.41020463 -0.37447169]] \n",
      "\n",
      "c: [[0 1 9]\n",
      " [9 0 4]\n",
      " [7 3 2]]\n"
     ]
    }
   ],
   "source": [
    "import numpy.random as rnd\n",
    "rnd.seed(0) # seed for reproducibility\n",
    "a = rnd.random((3,3))\n",
    "b = rnd.normal(0,1,(3,3)) # mean 0, standard deviation 1\n",
    "c = rnd.randint(0,10,(3,3))\n",
    "print(\"a:\",a,NL)\n",
    "print(\"b:\",b,NL)\n",
    "print(\"c:\",c)"
   ]
  },
  {
   "cell_type": "code",
   "execution_count": 8,
   "metadata": {},
   "outputs": [
    {
     "name": "stdout",
     "output_type": "stream",
     "text": [
      "[[ 1.  0.  0.  0.  0.]\n",
      " [ 0.  1.  0.  0.  0.]\n",
      " [ 0.  0.  1.  0.  0.]\n",
      " [ 0.  0.  0.  1.  0.]\n",
      " [ 0.  0.  0.  0.  1.]]\n",
      "[ 1.  1.  1.  1.  1.]\n"
     ]
    }
   ],
   "source": [
    "a = np.eye(5)\n",
    "print(a)\n",
    "b = np.empty(5)#The values will be whatever happens to already exist at that memory location\n",
    "print(b)"
   ]
  },
  {
   "cell_type": "markdown",
   "metadata": {},
   "source": [
    "### Array attributes"
   ]
  },
  {
   "cell_type": "code",
   "execution_count": 9,
   "metadata": {},
   "outputs": [
    {
     "name": "stdout",
     "output_type": "stream",
     "text": [
      "[[[7 2 0 0 4]\n",
      "  [5 5 6 8 4]\n",
      "  [1 4 9 8 1]\n",
      "  [1 7 9 9 3]]\n",
      "\n",
      " [[6 7 2 0 3]\n",
      "  [5 9 4 4 6]\n",
      "  [4 4 3 4 4]\n",
      "  [8 4 3 7 5]]\n",
      "\n",
      " [[5 0 1 5 9]\n",
      "  [3 0 5 0 1]\n",
      "  [2 4 2 0 3]\n",
      "  [2 0 7 5 9]]] \n",
      "\n",
      "ndim: 3\n",
      "shape: (3, 4, 5)\n",
      "size: 60\n",
      "dtype: int64\n",
      "itemsize: 8 bytes\n",
      "nbytes: 480 bytes\n"
     ]
    }
   ],
   "source": [
    "a = rnd.randint(10,size=(3,4,5)) # 3D Array\n",
    "print(a, NL)\n",
    "print(\"ndim:\", a.ndim)\n",
    "print(\"shape:\", a.shape)\n",
    "print(\"size:\", a.size)\n",
    "print(\"dtype:\",a.dtype)\n",
    "print(\"itemsize:\", a.itemsize, \"bytes\")\n",
    "print(\"nbytes:\", a.nbytes, \"bytes\")"
   ]
  },
  {
   "cell_type": "markdown",
   "metadata": {},
   "source": [
    "### Array indexing"
   ]
  },
  {
   "cell_type": "code",
   "execution_count": 10,
   "metadata": {},
   "outputs": [
    {
     "name": "stdout",
     "output_type": "stream",
     "text": [
      "[0 1 2 3 4 5 6 7 8 9]\n",
      "[0, 5, 9, 9, 6]\n"
     ]
    }
   ],
   "source": [
    "a = np.arange(10)\n",
    "print(a)\n",
    "print([a[0], a[5], a[9], a[-1], a[-4]])"
   ]
  },
  {
   "cell_type": "code",
   "execution_count": 11,
   "metadata": {},
   "outputs": [
    {
     "name": "stdout",
     "output_type": "stream",
     "text": [
      "[ 0  1  2  3  4 10  6  7  8  9]\n"
     ]
    }
   ],
   "source": [
    "a[5] = 10\n",
    "print(a)"
   ]
  },
  {
   "cell_type": "code",
   "execution_count": 12,
   "metadata": {},
   "outputs": [
    {
     "name": "stdout",
     "output_type": "stream",
     "text": [
      "[[0 2 7 2 9]\n",
      " [2 3 3 2 3]]\n",
      "0 3\n",
      "[[ 0  2  7 11  9]\n",
      " [ 2  3  3  2  3]]\n"
     ]
    }
   ],
   "source": [
    "b = rnd.randint(10, size=(2,5))\n",
    "print(b)\n",
    "print(b[0,0], b[1,-1])\n",
    "b[0,3]=11\n",
    "print(b)"
   ]
  },
  {
   "cell_type": "code",
   "execution_count": 13,
   "metadata": {},
   "outputs": [
    {
     "name": "stdout",
     "output_type": "stream",
     "text": [
      "[[0 2 7 3 9]\n",
      " [2 3 3 2 3]]\n"
     ]
    }
   ],
   "source": [
    "b[0,3] = 3.5\n",
    "print(b)"
   ]
  },
  {
   "cell_type": "code",
   "execution_count": 14,
   "metadata": {},
   "outputs": [
    {
     "name": "stdout",
     "output_type": "stream",
     "text": [
      "[0 1 2 3 4]\n",
      "[5 6 7 8 9]\n",
      "[4 5 6]\n",
      "[0 2 4 6 8]\n",
      "[1 3 5 7 9]\n",
      "[9 8 7 6 5 4 3 2 1 0]\n",
      "[5 3 1]\n"
     ]
    }
   ],
   "source": [
    "c = np.arange(10)\n",
    "print(c[:5])\n",
    "print(c[5:])\n",
    "print(c[4:7])\n",
    "print(c[::2])\n",
    "print(c[1::2])\n",
    "print(c[::-1])\n",
    "print(c[5::-2])"
   ]
  },
  {
   "cell_type": "code",
   "execution_count": 15,
   "metadata": {},
   "outputs": [
    {
     "name": "stdout",
     "output_type": "stream",
     "text": [
      "[[11 12 13 14 15]\n",
      " [21 22 23 24 25]\n",
      " [31 32 33 34 35]\n",
      " [41 42 43 44 45]\n",
      " [51 52 53 54 55]]\n"
     ]
    }
   ],
   "source": [
    "d = np.array([range(10*i+1, 10*i+6) for i in range(1,6)])\n",
    "print(d)"
   ]
  },
  {
   "cell_type": "code",
   "execution_count": 16,
   "metadata": {},
   "outputs": [
    {
     "name": "stdout",
     "output_type": "stream",
     "text": [
      "[[11 12 13]\n",
      " [21 22 23]] \n",
      "\n",
      "[[11 12]\n",
      " [21 22]\n",
      " [31 32]] \n",
      "\n",
      "[[55 54 53 52 51]\n",
      " [45 44 43 42 41]\n",
      " [35 34 33 32 31]\n",
      " [25 24 23 22 21]\n",
      " [15 14 13 12 11]] \n",
      "\n",
      "[11 21 31 41 51] \n",
      "\n",
      "[11 12 13 14 15] \n",
      "\n",
      "[11 12 13 14 15]\n"
     ]
    }
   ],
   "source": [
    "print(d[:2,:3], NL)\n",
    "print(d[:3,:2], NL)\n",
    "print(d[::-1,::-1], NL)\n",
    "print(d[:,0], NL)\n",
    "print(d[0,:], NL)\n",
    "print(d[0])"
   ]
  },
  {
   "cell_type": "markdown",
   "metadata": {},
   "source": [
    "### Copy"
   ]
  },
  {
   "cell_type": "code",
   "execution_count": 17,
   "metadata": {},
   "outputs": [
    {
     "name": "stdout",
     "output_type": "stream",
     "text": [
      "[[11 12]\n",
      " [21 22]] \n",
      "\n",
      "[[77 12]\n",
      " [21 22]] \n",
      "\n",
      "[[77 12 13 14 15]\n",
      " [21 22 23 24 25]\n",
      " [31 32 33 34 35]\n",
      " [41 42 43 44 45]\n",
      " [51 52 53 54 55]]\n"
     ]
    }
   ],
   "source": [
    "e = d[:2,:2]\n",
    "print(e, NL)\n",
    "e[0,0] = 77\n",
    "print(e, NL)\n",
    "print(d)"
   ]
  },
  {
   "cell_type": "code",
   "execution_count": 18,
   "metadata": {},
   "outputs": [
    {
     "name": "stdout",
     "output_type": "stream",
     "text": [
      "[[77 12 13 14 15]\n",
      " [21 22 23 24 25]\n",
      " [31 32 33 34 35]\n",
      " [41 42 43 44 45]\n",
      " [51 52 53 54 55]] \n",
      "\n",
      "[[77 12]\n",
      " [21 22]] \n",
      "\n",
      "[[11 12]\n",
      " [21 22]] \n",
      "\n",
      "[[77 12 13 14 15]\n",
      " [21 22 23 24 25]\n",
      " [31 32 33 34 35]\n",
      " [41 42 43 44 45]\n",
      " [51 52 53 54 55]]\n"
     ]
    }
   ],
   "source": [
    "print(d, NL)\n",
    "e = d[:2,:2].copy()\n",
    "print(e, NL)\n",
    "e[0,0] = 11\n",
    "print(e, NL)\n",
    "print(d)"
   ]
  },
  {
   "cell_type": "markdown",
   "metadata": {},
   "source": [
    "### Reshape"
   ]
  },
  {
   "cell_type": "code",
   "execution_count": 19,
   "metadata": {},
   "outputs": [
    {
     "name": "stdout",
     "output_type": "stream",
     "text": [
      "[[1 2 3]\n",
      " [4 5 6]\n",
      " [7 8 9]]\n"
     ]
    }
   ],
   "source": [
    "f = np.arange(1,10).reshape(3,3)\n",
    "print(f)"
   ]
  },
  {
   "cell_type": "code",
   "execution_count": 20,
   "metadata": {},
   "outputs": [
    {
     "name": "stdout",
     "output_type": "stream",
     "text": [
      "[[1 2 3]] \n",
      "\n",
      "[[1 2 3]] \n",
      "\n",
      "[[1]\n",
      " [2]\n",
      " [3]] \n",
      "\n",
      "[[1]\n",
      " [2]\n",
      " [3]]\n"
     ]
    }
   ],
   "source": [
    "g = np.array([1,2,3])\n",
    "print(g.reshape(1,3), NL)\n",
    "print(g[np.newaxis,:], NL)\n",
    "print(g.reshape(3,1), NL)\n",
    "print(g[:,np.newaxis])\n"
   ]
  },
  {
   "cell_type": "markdown",
   "metadata": {},
   "source": [
    "### Concatenate"
   ]
  },
  {
   "cell_type": "code",
   "execution_count": 21,
   "metadata": {},
   "outputs": [],
   "source": [
    "a = np.array([1, 2, 3])\n",
    "b = np.array([10, 11, 12])\n",
    "c = np.array([77, 66, 55])\n",
    "d = np.array([[4,5,6,],[7,8,9]])\n",
    "f = np.array([[13,14,15],[16,17,18]])"
   ]
  },
  {
   "cell_type": "code",
   "execution_count": 22,
   "metadata": {},
   "outputs": [
    {
     "name": "stdout",
     "output_type": "stream",
     "text": [
      "[ 1  2  3 10 11 12]\n"
     ]
    }
   ],
   "source": [
    "g = np.concatenate([a,b])\n",
    "print(g)"
   ]
  },
  {
   "cell_type": "code",
   "execution_count": 23,
   "metadata": {},
   "outputs": [
    {
     "name": "stdout",
     "output_type": "stream",
     "text": [
      "[ 1  2  3 10 11 12 77 66 55] \n",
      "\n",
      "[[ 4  5  6]\n",
      " [ 7  8  9]\n",
      " [13 14 15]\n",
      " [16 17 18]] \n",
      "\n",
      "[[ 4  5  6 13 14 15]\n",
      " [ 7  8  9 16 17 18]]\n"
     ]
    }
   ],
   "source": [
    "g = np.concatenate([a,b,c])\n",
    "print(g,NL)\n",
    "g = np.concatenate([d,f])\n",
    "print(g,NL)\n",
    "g = np.concatenate([d,f], axis=1)\n",
    "print(g)"
   ]
  },
  {
   "cell_type": "code",
   "execution_count": 24,
   "metadata": {},
   "outputs": [
    {
     "name": "stdout",
     "output_type": "stream",
     "text": [
      "[[1 2 3]\n",
      " [4 5 6]\n",
      " [7 8 9]]\n"
     ]
    }
   ],
   "source": [
    "h = np.vstack([a,d])\n",
    "print(h)"
   ]
  },
  {
   "cell_type": "code",
   "execution_count": 25,
   "metadata": {},
   "outputs": [
    {
     "name": "stdout",
     "output_type": "stream",
     "text": [
      "[[ 4  5  6 33]\n",
      " [ 7  8  9 33]]\n"
     ]
    }
   ],
   "source": [
    "g = np.array([[33],[33]])\n",
    "h = np.hstack([d,g])\n",
    "print(h)"
   ]
  },
  {
   "cell_type": "markdown",
   "metadata": {},
   "source": [
    "### Splitting"
   ]
  },
  {
   "cell_type": "code",
   "execution_count": 26,
   "metadata": {},
   "outputs": [
    {
     "name": "stdout",
     "output_type": "stream",
     "text": [
      "[1 2 3] [5 5] [3 2 1]\n"
     ]
    }
   ],
   "source": [
    "a = np.array([1,2,3,5,5,3,2,1])\n",
    "b,c,d = np.split(a, [3,5])\n",
    "print(b,c,d)"
   ]
  },
  {
   "cell_type": "code",
   "execution_count": 27,
   "metadata": {},
   "outputs": [
    {
     "name": "stdout",
     "output_type": "stream",
     "text": [
      "[[ 1  2  3  4]\n",
      " [ 5  6  7  8]\n",
      " [ 9 10 11 12]\n",
      " [13 14 15 16]] \n",
      "\n",
      "[[ 1  2]\n",
      " [ 5  6]\n",
      " [ 9 10]\n",
      " [13 14]] \n",
      "\n",
      "[[ 3  4]\n",
      " [ 7  8]\n",
      " [11 12]\n",
      " [15 16]] \n",
      "\n",
      "[[1 2 3 4]\n",
      " [5 6 7 8]] \n",
      "\n",
      "[[ 9 10 11 12]\n",
      " [13 14 15 16]]\n"
     ]
    }
   ],
   "source": [
    "a = np.arange(1,17).reshape(4,4)\n",
    "b,c = np.hsplit(a,[2])\n",
    "d,e = np.vsplit(a,[2])\n",
    "print(a,NL)\n",
    "print(b,NL)\n",
    "print(c,NL)\n",
    "print(d,NL)\n",
    "print(e)"
   ]
  },
  {
   "cell_type": "markdown",
   "metadata": {},
   "source": [
    "### Array Arithmetic"
   ]
  },
  {
   "cell_type": "code",
   "execution_count": 28,
   "metadata": {},
   "outputs": [
    {
     "name": "stdout",
     "output_type": "stream",
     "text": [
      "[5 6 7 8 9]\n",
      "[-3 -2 -1  0  1]\n",
      "[ 0.   0.5  1.   1.5  2. ]\n",
      "[0 2 4 6 8]\n",
      "[0 0 1 1 2]\n"
     ]
    }
   ],
   "source": [
    "a = np.arange(5)\n",
    "print(a+5)\n",
    "print(a-3)\n",
    "print(a/2)\n",
    "print(a*2)\n",
    "print(a//2)"
   ]
  },
  {
   "cell_type": "code",
   "execution_count": 29,
   "metadata": {},
   "outputs": [
    {
     "name": "stdout",
     "output_type": "stream",
     "text": [
      "[ 0 -1 -2 -3 -4]\n",
      "[ 0  1  4  9 16]\n",
      "[0 1 0 1 0]\n",
      "[-1.   -2.25 -4.   -6.25 -9.  ]\n",
      "[-3.5 -2.5 -1.5 -0.5  0.5]\n"
     ]
    }
   ],
   "source": [
    "print(-a)\n",
    "print(a**2)\n",
    "print(a%2)\n",
    "print(-(0.5*a+1)**2)\n",
    "print(a-3.5)"
   ]
  },
  {
   "cell_type": "code",
   "execution_count": 30,
   "metadata": {},
   "outputs": [
    {
     "name": "stdout",
     "output_type": "stream",
     "text": [
      "[5 6 7 8 9]\n",
      "[-3 -2 -1  0  1]\n",
      "[ 0 -1 -2 -3 -4]\n",
      "[0 2 4 6 8]\n",
      "[ 0.   0.5  1.   1.5  2. ]\n",
      "[0 0 1 1 2]\n",
      "[ 0  1  4  9 16]\n",
      "[0 1 0 1 0]\n"
     ]
    }
   ],
   "source": [
    "print(np.add(a,5))\n",
    "print(np.subtract(a,3))\n",
    "print(np.negative(a))\n",
    "print(np.multiply(a,2))\n",
    "print(np.divide(a,2))\n",
    "print(np.floor_divide(a,2))\n",
    "print(np.power(a,2))\n",
    "print(np.mod(a,2))"
   ]
  },
  {
   "cell_type": "markdown",
   "metadata": {},
   "source": [
    "### Absolute"
   ]
  },
  {
   "cell_type": "code",
   "execution_count": 31,
   "metadata": {},
   "outputs": [
    {
     "name": "stdout",
     "output_type": "stream",
     "text": [
      "[-5 -4 -3 -2 -1  0  1  2  3  4] \n",
      " [5 4 3 2 1 0 1 2 3 4] \n",
      " [5 4 3 2 1 0 1 2 3 4]\n"
     ]
    }
   ],
   "source": [
    "a = np.subtract(np.arange(10), 5)\n",
    "print(a, NL, np.abs(a), NL, np.absolute(a))"
   ]
  },
  {
   "cell_type": "code",
   "execution_count": 32,
   "metadata": {},
   "outputs": [
    {
     "name": "stdout",
     "output_type": "stream",
     "text": [
      "[ 5.  5.  2.  1.]\n"
     ]
    }
   ],
   "source": [
    "a = np.array([3+4j, 4-3j, 2+0j, 1-0j])\n",
    "print(np.abs(a))"
   ]
  },
  {
   "cell_type": "markdown",
   "metadata": {},
   "source": [
    "### Trigonometric Functions"
   ]
  },
  {
   "cell_type": "code",
   "execution_count": 33,
   "metadata": {},
   "outputs": [
    {
     "name": "stdout",
     "output_type": "stream",
     "text": [
      "[ 0.  1.  0.]\n",
      "[ 1.  0. -1.]\n",
      "[  0.00000e+00   1.63312e+16  -1.22465e-16]\n",
      "[-1.5708  0.      1.5708]\n",
      "[ 3.14159  1.5708   0.     ]\n",
      "[-0.7854  0.      0.7854]\n"
     ]
    }
   ],
   "source": [
    "theta = np.linspace(0, np.pi, 3)\n",
    "a = [-1, 0, 1]\n",
    "np.set_printoptions(precision= 5, suppress=True)\n",
    "print(np.sin(theta))\n",
    "print(np.cos(theta))\n",
    "print(np.tan(theta))\n",
    "print(np.arcsin(a))\n",
    "print(np.arccos(a))\n",
    "print(np.arctan(a))"
   ]
  },
  {
   "cell_type": "markdown",
   "metadata": {},
   "source": [
    "### Exponents and logarithms"
   ]
  },
  {
   "cell_type": "code",
   "execution_count": 34,
   "metadata": {},
   "outputs": [
    {
     "name": "stdout",
     "output_type": "stream",
     "text": [
      "e^x= [  2.71828   7.38906  20.08554]\n",
      "2^x= [ 2.  4.  8.]\n",
      "3^x= [ 3  9 27]\n"
     ]
    }
   ],
   "source": [
    "x = np.array([1,2,3])\n",
    "print(\"e^x=\", np.exp(x))\n",
    "print(\"2^x=\", np.exp2(x))\n",
    "print(\"3^x=\", np.power(3,x))"
   ]
  },
  {
   "cell_type": "code",
   "execution_count": 35,
   "metadata": {},
   "outputs": [
    {
     "name": "stdout",
     "output_type": "stream",
     "text": [
      "ln(x)   = [ 0.       0.69315  1.38629  2.30259]\n",
      "log2(x) = [ 0.       1.       2.       3.32193]\n",
      "log10(x)= [ 0.       0.30103  0.60206  1.     ]\n"
     ]
    }
   ],
   "source": [
    "x = np.array([1,2,4,10])\n",
    "print(\"ln(x)   =\", np.log(x))\n",
    "print(\"log2(x) =\", np.log2(x))\n",
    "print(\"log10(x)=\", np.log10(x))"
   ]
  },
  {
   "cell_type": "code",
   "execution_count": 36,
   "metadata": {},
   "outputs": [
    {
     "name": "stdout",
     "output_type": "stream",
     "text": [
      "exp(x) - 1 = [ 0.       0.001    0.01005  0.10517]\n",
      "log(1 + x) = [ 0.       0.001    0.00995  0.09531]\n"
     ]
    }
   ],
   "source": [
    "# When x is very small, these functions give more precise values than if the raw np.log or np.exp were to be used.\n",
    "x = np.array([0, 0.001, 0.01, 0.1])\n",
    "print(\"exp(x) - 1 =\", np.expm1(x))\n",
    "print(\"log(1 + x) =\", np.log1p(x))"
   ]
  },
  {
   "cell_type": "markdown",
   "metadata": {},
   "source": [
    "### Specifying Output"
   ]
  },
  {
   "cell_type": "markdown",
   "metadata": {},
   "source": [
    "For large calculations, it is sometimes useful to be able to specify the array where the result of the calculation will be stored. Rather than creating a temporary array, this can be used to write computation results directly to the memory location where you'd like them to be. For all ufuncs, this can be done using the out argument of the function. "
   ]
  },
  {
   "cell_type": "code",
   "execution_count": 37,
   "metadata": {},
   "outputs": [
    {
     "name": "stdout",
     "output_type": "stream",
     "text": [
      "[  0.  10.  20.  30.  40.]\n"
     ]
    }
   ],
   "source": [
    "x = np.arange(5)\n",
    "\n",
    "y = np.empty(5)\n",
    "np.multiply(x, 10, out=y)\n",
    "print(y)"
   ]
  },
  {
   "cell_type": "code",
   "execution_count": 38,
   "metadata": {},
   "outputs": [
    {
     "name": "stdout",
     "output_type": "stream",
     "text": [
      "[  1.   0.   2.   0.   4.   0.   8.   0.  16.   0.]\n"
     ]
    }
   ],
   "source": [
    "y = np.zeros(10)\n",
    "np.power(2, x, out=y[::2])\n",
    "print(y)"
   ]
  },
  {
   "cell_type": "markdown",
   "metadata": {},
   "source": [
    "If we had instead written y[::2] = 2 \\*\\* x, this would have resulted in the creation of a temporary array to hold the results of 2 \\*\\* x, followed by a second operation copying those values into the y array. This doesn't make much of a difference for such a small computation, but for very large arrays the memory savings from careful use of the out argument can be significant."
   ]
  },
  {
   "cell_type": "markdown",
   "metadata": {},
   "source": [
    "### Aggregates & Outer Products\n"
   ]
  },
  {
   "cell_type": "code",
   "execution_count": 39,
   "metadata": {},
   "outputs": [
    {
     "name": "stdout",
     "output_type": "stream",
     "text": [
      "15\n",
      "120\n",
      "[ 1  3  6 10 15]\n",
      "[  1   2   6  24 120]\n",
      "[[ 1  2  3  4  5]\n",
      " [ 2  4  6  8 10]\n",
      " [ 3  6  9 12 15]\n",
      " [ 4  8 12 16 20]\n",
      " [ 5 10 15 20 25]]\n"
     ]
    }
   ],
   "source": [
    "x = np.arange(1,6)\n",
    "print(np.add.reduce(x))\n",
    "print(np.multiply.reduce(x))\n",
    "print(np.add.accumulate(x))\n",
    "print(np.multiply.accumulate(x))\n",
    "print(np.multiply.outer(x,x))"
   ]
  },
  {
   "cell_type": "code",
   "execution_count": 40,
   "metadata": {},
   "outputs": [
    {
     "name": "stdout",
     "output_type": "stream",
     "text": [
      "10 loops, best of 3: 87.9 ms per loop\n",
      "1000 loops, best of 3: 500 µs per loop\n"
     ]
    }
   ],
   "source": [
    "big_array = rnd.rand(1000000)\n",
    "%timeit sum(big_array)\n",
    "%timeit np.sum(big_array)"
   ]
  },
  {
   "cell_type": "markdown",
   "metadata": {},
   "source": [
    "### Minimum and Maximum"
   ]
  },
  {
   "cell_type": "code",
   "execution_count": 41,
   "metadata": {},
   "outputs": [
    {
     "name": "stdout",
     "output_type": "stream",
     "text": [
      "10 loops, best of 3: 66.7 ms per loop\n",
      "1000 loops, best of 3: 447 µs per loop\n"
     ]
    }
   ],
   "source": [
    "%timeit min(big_array)\n",
    "%timeit np.min(big_array)"
   ]
  },
  {
   "cell_type": "code",
   "execution_count": 42,
   "metadata": {},
   "outputs": [
    {
     "name": "stdout",
     "output_type": "stream",
     "text": [
      "10 loops, best of 3: 65.6 ms per loop\n",
      "1000 loops, best of 3: 416 µs per loop\n"
     ]
    }
   ],
   "source": [
    "%timeit max(big_array)\n",
    "%timeit np.max(big_array)"
   ]
  },
  {
   "cell_type": "code",
   "execution_count": 43,
   "metadata": {},
   "outputs": [
    {
     "name": "stdout",
     "output_type": "stream",
     "text": [
      "1.4057692298e-06 0.999999439272 500205.927597\n"
     ]
    }
   ],
   "source": [
    "#Shorter syntax\n",
    "print(big_array.min(), big_array.max(), big_array.sum())"
   ]
  },
  {
   "cell_type": "markdown",
   "metadata": {},
   "source": [
    "### Multi Dimensional Aggregate"
   ]
  },
  {
   "cell_type": "code",
   "execution_count": 44,
   "metadata": {},
   "outputs": [
    {
     "name": "stdout",
     "output_type": "stream",
     "text": [
      "[[ 0.1229   0.30288  0.36088  0.22887]\n",
      " [ 0.09894  0.03707  0.30653  0.7625 ]\n",
      " [ 0.73891  0.55222  0.65618  0.96183]]\n",
      "5.12971598969\n",
      "[ 0.09894  0.03707  0.30653  0.22887]\n",
      "[ 0.36088  0.7625   0.96183]\n"
     ]
    }
   ],
   "source": [
    "a = rnd.random((3,4))\n",
    "print(a)\n",
    "print(a.sum())\n",
    "print(a.min(axis = 0))\n",
    "print(a.max(axis = 1))"
   ]
  },
  {
   "cell_type": "code",
   "execution_count": 45,
   "metadata": {},
   "outputs": [
    {
     "name": "stdout",
     "output_type": "stream",
     "text": [
      "0.427476332474 0.287197677989 0.333706473393 6.78692284695e-07\n"
     ]
    }
   ],
   "source": [
    "print(a.mean(), a.std(), np.median(a), a.prod())"
   ]
  },
  {
   "cell_type": "markdown",
   "metadata": {},
   "source": [
    "### Broadcasting"
   ]
  },
  {
   "cell_type": "markdown",
   "metadata": {},
   "source": [
    "Broadcasting allows binary operations to be performed on arrays of different sizes of arrays. \n",
    "Broadcasting in NumPy follows a strict set of rules to determine the interaction between the two arrays:\n",
    "\n",
    "   - Rule 1: If the two arrays differ in their number of dimensions, the shape of the one with fewer dimensions is padded with ones on its leading (left) side.\n",
    "   - Rule 2: If the shape of the two arrays does not match in any dimension, the array with shape equal to 1 in that dimension is stretched to match the other shape.\n",
    "   - Rule 3: If in any dimension the sizes disagree and neither is equal to 1, an error is raised.\n"
   ]
  },
  {
   "cell_type": "code",
   "execution_count": 46,
   "metadata": {},
   "outputs": [],
   "source": [
    "M = np.ones((2, 3))\n",
    "a = np.arange(3)"
   ]
  },
  {
   "cell_type": "markdown",
   "metadata": {},
   "source": [
    "Let's consider an operation on these two arrays. The shape of the arrays are\n",
    "\n",
    "- ``M.shape = (2, 3)``\n",
    "- ``a.shape = (3,)``\n",
    "\n",
    "We see by rule 1 that the array ``a`` has fewer dimensions, so we pad it on the left with ones:\n",
    "\n",
    "- ``M.shape -> (2, 3)``\n",
    "- ``a.shape -> (1, 3)``\n",
    "\n",
    "By rule 2, we now see that the first dimension disagrees, so we stretch this dimension to match:\n",
    "\n",
    "- ``M.shape -> (2, 3)``\n",
    "- ``a.shape -> (2, 3)``\n",
    "\n",
    "The shapes match, and we see that the final shape will be ``(2, 3)``:"
   ]
  },
  {
   "cell_type": "code",
   "execution_count": 47,
   "metadata": {},
   "outputs": [
    {
     "name": "stdout",
     "output_type": "stream",
     "text": [
      "[[ 1.  2.  3.]\n",
      " [ 1.  2.  3.]]\n"
     ]
    }
   ],
   "source": [
    "print(M+a)"
   ]
  },
  {
   "cell_type": "code",
   "execution_count": 48,
   "metadata": {},
   "outputs": [],
   "source": [
    "a = np.arange(3).reshape((3, 1))\n",
    "b = np.arange(3)"
   ]
  },
  {
   "cell_type": "markdown",
   "metadata": {},
   "source": [
    "Again, we'll start by writing out the shape of the arrays:\n",
    "\n",
    "- ``a.shape = (3, 1)``\n",
    "- ``b.shape = (3,)``\n",
    "\n",
    "Rule 1 says we must pad the shape of ``b`` with ones:\n",
    "\n",
    "- ``a.shape -> (3, 1)``\n",
    "- ``b.shape -> (1, 3)``\n",
    "\n",
    "And rule 2 tells us that we upgrade each of these ones to match the corresponding size of the other array:\n",
    "\n",
    "- ``a.shape -> (3, 3)``\n",
    "- ``b.shape -> (3, 3)``\n",
    "\n",
    "Because the result matches, these shapes are compatible. We can see this here:"
   ]
  },
  {
   "cell_type": "code",
   "execution_count": 49,
   "metadata": {},
   "outputs": [
    {
     "name": "stdout",
     "output_type": "stream",
     "text": [
      "[[0 1 2]\n",
      " [1 2 3]\n",
      " [2 3 4]]\n"
     ]
    }
   ],
   "source": [
    "print(a+b)"
   ]
  },
  {
   "cell_type": "code",
   "execution_count": 50,
   "metadata": {},
   "outputs": [],
   "source": [
    "M = np.ones((3, 2))\n",
    "a = np.arange(3)"
   ]
  },
  {
   "cell_type": "markdown",
   "metadata": {},
   "source": [
    "This is just a slightly different situation than in the first example: the matrix ``M`` is transposed.\n",
    "How does this affect the calculation? The shape of the arrays are\n",
    "\n",
    "- ``M.shape = (3, 2)``\n",
    "- ``a.shape = (3,)``\n",
    "\n",
    "Again, rule 1 tells us that we must pad the shape of ``a`` with ones:\n",
    "\n",
    "- ``M.shape -> (3, 2)``\n",
    "- ``a.shape -> (1, 3)``\n",
    "\n",
    "By rule 2, the first dimension of ``a`` is stretched to match that of ``M``:\n",
    "\n",
    "- ``M.shape -> (3, 2)``\n",
    "- ``a.shape -> (3, 3)``\n",
    "\n",
    "Now we hit rule 3–the final shapes do not match, so these two arrays are incompatible, as we can observe by attempting this operation:"
   ]
  },
  {
   "cell_type": "code",
   "execution_count": 51,
   "metadata": {},
   "outputs": [],
   "source": [
    "# print(M+a)"
   ]
  },
  {
   "cell_type": "markdown",
   "metadata": {},
   "source": [
    "### Comparison"
   ]
  },
  {
   "cell_type": "code",
   "execution_count": 52,
   "metadata": {},
   "outputs": [
    {
     "name": "stdout",
     "output_type": "stream",
     "text": [
      "[ True  True False False False]\n",
      "[False False False  True  True]\n",
      "[ True  True  True False False]\n",
      "[False False  True  True  True]\n",
      "[ True  True False  True  True]\n",
      "[False False  True False False]\n"
     ]
    }
   ],
   "source": [
    "a = np.arange(1,6)\n",
    "print(a<3)\n",
    "print(a>3)\n",
    "print(a<=3)\n",
    "print(a>=3)\n",
    "print(a!=3)\n",
    "print(a==3)"
   ]
  },
  {
   "cell_type": "code",
   "execution_count": 53,
   "metadata": {},
   "outputs": [
    {
     "name": "stdout",
     "output_type": "stream",
     "text": [
      "[False  True False False False]\n"
     ]
    }
   ],
   "source": [
    "print((2*a)==(x**2))"
   ]
  },
  {
   "cell_type": "markdown",
   "metadata": {},
   "source": [
    "### Counting Entries"
   ]
  },
  {
   "cell_type": "code",
   "execution_count": 54,
   "metadata": {},
   "outputs": [
    {
     "name": "stdout",
     "output_type": "stream",
     "text": [
      "[[5 0 3 3]\n",
      " [7 9 3 5]\n",
      " [2 4 7 6]] \n",
      "\n",
      "[[ True  True  True  True]\n",
      " [False False  True  True]\n",
      " [ True  True False False]] \n",
      "\n",
      "8\n",
      "8\n",
      "[4 2 2]\n",
      "True\n",
      "False\n",
      "True\n",
      "False\n",
      "[ True False  True]\n"
     ]
    }
   ],
   "source": [
    "rng = rnd.RandomState(0)\n",
    "x = rng.randint(10, size=(3,4))\n",
    "print(x, NL)\n",
    "print(x<6, NL)\n",
    "print(np.count_nonzero(x<6))\n",
    "print(np.sum(x<6))\n",
    "print(np.sum(x<6, axis=1))\n",
    "print(np.any(x>8))\n",
    "print(np.any(x<0))\n",
    "print(np.all(x<10))\n",
    "print(np.all(x==3))\n",
    "print(np.all(x<8,axis=1))\n"
   ]
  },
  {
   "cell_type": "markdown",
   "metadata": {},
   "source": [
    "### Boolean operators"
   ]
  },
  {
   "cell_type": "code",
   "execution_count": 55,
   "metadata": {},
   "outputs": [
    {
     "name": "stdout",
     "output_type": "stream",
     "text": [
      "3\n"
     ]
    }
   ],
   "source": [
    "print(np.sum((x>5) & (x<8)))"
   ]
  },
  {
   "cell_type": "code",
   "execution_count": 56,
   "metadata": {},
   "outputs": [
    {
     "name": "stdout",
     "output_type": "stream",
     "text": [
      "3\n"
     ]
    }
   ],
   "source": [
    "print(np.sum(~((x<=5) | (x>=8))))"
   ]
  },
  {
   "cell_type": "markdown",
   "metadata": {},
   "source": [
    "### Boolean Array as mask"
   ]
  },
  {
   "cell_type": "code",
   "execution_count": 57,
   "metadata": {},
   "outputs": [
    {
     "name": "stdout",
     "output_type": "stream",
     "text": [
      "[[5 0 3 3]\n",
      " [7 9 3 5]\n",
      " [2 4 7 6]]\n"
     ]
    }
   ],
   "source": [
    "print(x)"
   ]
  },
  {
   "cell_type": "code",
   "execution_count": 58,
   "metadata": {},
   "outputs": [
    {
     "name": "stdout",
     "output_type": "stream",
     "text": [
      "[0 3 3 3 2 4]\n"
     ]
    }
   ],
   "source": [
    "print(x[x<5])"
   ]
  },
  {
   "cell_type": "markdown",
   "metadata": {},
   "source": [
    "### Fancy Indexing"
   ]
  },
  {
   "cell_type": "code",
   "execution_count": 59,
   "metadata": {},
   "outputs": [
    {
     "name": "stdout",
     "output_type": "stream",
     "text": [
      "[88 88 12 58 65 39 87 46 88 81]\n"
     ]
    }
   ],
   "source": [
    "x = rng.randint(100, size=10)\n",
    "print(x)"
   ]
  },
  {
   "cell_type": "code",
   "execution_count": 60,
   "metadata": {},
   "outputs": [
    {
     "name": "stdout",
     "output_type": "stream",
     "text": [
      "[88 58 39]\n"
     ]
    }
   ],
   "source": [
    "index = [1, 3, 5]\n",
    "print(x[index])"
   ]
  },
  {
   "cell_type": "code",
   "execution_count": 61,
   "metadata": {},
   "outputs": [
    {
     "name": "stdout",
     "output_type": "stream",
     "text": [
      "[[ 0  1  2  3]\n",
      " [ 4  5  6  7]\n",
      " [ 8  9 10 11]]\n",
      "[ 2  5 11]\n"
     ]
    }
   ],
   "source": [
    "x = np.arange(12).reshape((3,4))\n",
    "row = np.array([0,1,2])\n",
    "col = np.array([2,1,3])\n",
    "print(x)\n",
    "print(x[row,col])\n"
   ]
  },
  {
   "cell_type": "markdown",
   "metadata": {},
   "source": [
    "The pairing of indices in fancy indexing follows all the broadcasting rules. So if we combine a column vector and a row vector within the indices, we get a two-dimensional result"
   ]
  },
  {
   "cell_type": "code",
   "execution_count": 62,
   "metadata": {},
   "outputs": [
    {
     "name": "stdout",
     "output_type": "stream",
     "text": [
      "[[ 2  1  3]\n",
      " [ 6  5  7]\n",
      " [10  9 11]]\n"
     ]
    }
   ],
   "source": [
    "print(x[row[:, np.newaxis], col])"
   ]
  },
  {
   "cell_type": "code",
   "execution_count": 63,
   "metadata": {},
   "outputs": [
    {
     "name": "stdout",
     "output_type": "stream",
     "text": [
      "[10  8  9]\n"
     ]
    }
   ],
   "source": [
    "print(x[2,[2,0,1]])"
   ]
  },
  {
   "cell_type": "code",
   "execution_count": 64,
   "metadata": {},
   "outputs": [
    {
     "name": "stdout",
     "output_type": "stream",
     "text": [
      "[[ 6  4  5]\n",
      " [10  8  9]]\n"
     ]
    }
   ],
   "source": [
    "print(x[1:,[2,0,1]])"
   ]
  },
  {
   "cell_type": "code",
   "execution_count": 65,
   "metadata": {},
   "outputs": [
    {
     "name": "stdout",
     "output_type": "stream",
     "text": [
      "[[ 0  2]\n",
      " [ 4  6]\n",
      " [ 8 10]]\n"
     ]
    }
   ],
   "source": [
    "mask = np.array([1, 0, 1, 0], dtype=bool)\n",
    "print(x[row[:, np.newaxis], mask])"
   ]
  },
  {
   "cell_type": "markdown",
   "metadata": {},
   "source": [
    "### Sorting"
   ]
  },
  {
   "cell_type": "code",
   "execution_count": 71,
   "metadata": {},
   "outputs": [
    {
     "name": "stdout",
     "output_type": "stream",
     "text": [
      "[2 1 4 3 5] \n",
      " [1 0 3 2 4] \n",
      " [1 2 3 4 5]\n"
     ]
    }
   ],
   "source": [
    "a = np.array([2,1,4,3,5])\n",
    "i = np.argsort(a)\n",
    "print(a,NL,i,NL,np.sort(a))"
   ]
  },
  {
   "cell_type": "code",
   "execution_count": 69,
   "metadata": {},
   "outputs": [
    {
     "name": "stdout",
     "output_type": "stream",
     "text": [
      "[1 2 3 4 5]\n"
     ]
    }
   ],
   "source": [
    "a.sort() #in-place sort\n",
    "print(a)"
   ]
  },
  {
   "cell_type": "code",
   "execution_count": 72,
   "metadata": {},
   "outputs": [
    {
     "data": {
      "text/plain": [
       "array([1, 2, 3, 4, 5])"
      ]
     },
     "execution_count": 72,
     "metadata": {},
     "output_type": "execute_result"
    }
   ],
   "source": [
    "a[i]"
   ]
  },
  {
   "cell_type": "code",
   "execution_count": 75,
   "metadata": {},
   "outputs": [
    {
     "name": "stdout",
     "output_type": "stream",
     "text": [
      "[[9 2 0 1 9 7]\n",
      " [3 8 2 5 1 5]\n",
      " [8 5 1 4 2 3]\n",
      " [3 8 4 2 9 8]]\n",
      "[[3 2 0 1 1 3]\n",
      " [3 5 1 2 2 5]\n",
      " [8 8 2 4 9 7]\n",
      " [9 8 4 5 9 8]]\n",
      "[[0 1 2 7 9 9]\n",
      " [1 2 3 5 5 8]\n",
      " [1 2 3 4 5 8]\n",
      " [2 3 4 8 8 9]]\n"
     ]
    }
   ],
   "source": [
    "a = rnd.randint(0,10,(4,6))\n",
    "print(a)\n",
    "print(np.sort(a, axis=0))\n",
    "print(np.sort(a, axis=1))"
   ]
  },
  {
   "cell_type": "markdown",
   "metadata": {},
   "source": [
    "### Partial Sort\n"
   ]
  },
  {
   "cell_type": "code",
   "execution_count": 76,
   "metadata": {},
   "outputs": [
    {
     "name": "stdout",
     "output_type": "stream",
     "text": [
      "[2 3 4 1 5 6 8 9 7]\n"
     ]
    }
   ],
   "source": [
    "b = np.array([7,2,4,6,3,1,8,9,5])\n",
    "print(np.partition(b,4))"
   ]
  },
  {
   "cell_type": "code",
   "execution_count": 78,
   "metadata": {},
   "outputs": [
    {
     "data": {
      "text/plain": [
       "array([[0, 1, 2, 9, 9, 7],\n",
       "       [1, 2, 3, 5, 8, 5],\n",
       "       [1, 2, 3, 4, 5, 8],\n",
       "       [2, 3, 4, 8, 9, 8]])"
      ]
     },
     "execution_count": 78,
     "metadata": {},
     "output_type": "execute_result"
    }
   ],
   "source": [
    "np.partition(a, 2, axis=1)"
   ]
  }
 ],
 "metadata": {
  "kernelspec": {
   "display_name": "Python 3",
   "language": "python",
   "name": "python3"
  },
  "language_info": {
   "codemirror_mode": {
    "name": "ipython",
    "version": 3
   },
   "file_extension": ".py",
   "mimetype": "text/x-python",
   "name": "python",
   "nbconvert_exporter": "python",
   "pygments_lexer": "ipython3",
   "version": "3.6.1"
  }
 },
 "nbformat": 4,
 "nbformat_minor": 2
}
